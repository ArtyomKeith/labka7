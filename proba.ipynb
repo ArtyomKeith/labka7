{
 "cells": [
  {
   "cell_type": "code",
   "execution_count": 2,
   "metadata": {},
   "outputs": [
    {
     "name": "stderr",
     "output_type": "stream",
     "text": [
      "2024-10-17 22:26:11.799 Thread 'MainThread': missing ScriptRunContext! This warning can be ignored when running in bare mode.\n",
      "2024-10-17 22:26:11.800 Thread 'MainThread': missing ScriptRunContext! This warning can be ignored when running in bare mode.\n",
      "2024-10-17 22:26:11.810 Thread 'MainThread': missing ScriptRunContext! This warning can be ignored when running in bare mode.\n",
      "2024-10-17 22:26:11.811 Thread 'MainThread': missing ScriptRunContext! This warning can be ignored when running in bare mode.\n",
      "2024-10-17 22:26:11.812 Thread 'MainThread': missing ScriptRunContext! This warning can be ignored when running in bare mode.\n",
      "2024-10-17 22:26:11.812 Thread 'MainThread': missing ScriptRunContext! This warning can be ignored when running in bare mode.\n",
      "2024-10-17 22:26:11.813 Thread 'MainThread': missing ScriptRunContext! This warning can be ignored when running in bare mode.\n",
      "2024-10-17 22:26:11.813 Thread 'MainThread': missing ScriptRunContext! This warning can be ignored when running in bare mode.\n",
      "2024-10-17 22:26:11.814 Thread 'MainThread': missing ScriptRunContext! This warning can be ignored when running in bare mode.\n",
      "2024-10-17 22:26:11.815 Thread 'MainThread': missing ScriptRunContext! This warning can be ignored when running in bare mode.\n",
      "2024-10-17 22:26:11.836 Thread 'MainThread': missing ScriptRunContext! This warning can be ignored when running in bare mode.\n",
      "2024-10-17 22:26:12.047 Thread 'MainThread': missing ScriptRunContext! This warning can be ignored when running in bare mode.\n",
      "2024-10-17 22:26:12.048 Thread 'MainThread': missing ScriptRunContext! This warning can be ignored when running in bare mode.\n",
      "2024-10-17 22:26:12.048 Thread 'MainThread': missing ScriptRunContext! This warning can be ignored when running in bare mode.\n",
      "2024-10-17 22:26:12.049 Thread 'MainThread': missing ScriptRunContext! This warning can be ignored when running in bare mode.\n",
      "2024-10-17 22:26:12.050 Thread 'MainThread': missing ScriptRunContext! This warning can be ignored when running in bare mode.\n",
      "2024-10-17 22:26:12.051 Thread 'MainThread': missing ScriptRunContext! This warning can be ignored when running in bare mode.\n"
     ]
    },
    {
     "data": {
      "text/plain": [
       "DeltaGenerator()"
      ]
     },
     "execution_count": 2,
     "metadata": {},
     "output_type": "execute_result"
    }
   ],
   "source": [
    "import streamlit as st\n",
    "import pandas as pd\n",
    "import dask.dataframe as dd\n",
    "import matplotlib.pyplot as plt\n",
    "import seaborn as sns\n",
    "\n",
    "# Заголовок дашборда\n",
    "st.title(\"Анализ продовольственной безопасности по странам\")\n",
    "\n",
    "# Загрузка данных\n",
    "file_path = \"aggregated_results.xlsx\"  # Используйте ваш путь к файлу\n",
    "df_pandas = pd.read_excel(file_path)\n",
    "\n",
    "# Выбор страны для анализа\n",
    "country = st.selectbox(\"Выберите страну для анализа\", df_pandas['country'].unique())\n",
    "\n",
    "# Фильтрация данных по выбранной стране\n",
    "country_data = df_pandas[df_pandas['country'] == country]\n",
    "\n",
    "# Визуализация трендов\n",
    "st.subheader(f'Тренды для {country}')\n",
    "\n",
    "# Используем средние значения по годам\n",
    "df_combined = country_data.groupby('year').mean(numeric_only=True)\n",
    "\n",
    "# Создаем график с помощью matplotlib\n",
    "fig, ax = plt.subplots(figsize=(10, 6))\n",
    "sns.lineplot(data=df_combined, x='year', y='F_mod_sev_tot', ax=ax)  # Замените на правильное имя столбца\n",
    "ax.set_title(f'Изменение продовольственной безопасности (модерированная тяжесть) в {country}')\n",
    "ax.set_xlabel('Год')\n",
    "ax.set_ylabel('Модерированная тяжесть продовольственной безопасности')\n",
    "plt.xticks(rotation=45)\n",
    "\n",
    "# Отображение графика в Streamlit\n",
    "st.pyplot(fig)\n",
    "\n",
    "# Вывод средних значений в виде таблицы\n",
    "st.subheader(\"Средние значения показателей\")\n",
    "st.dataframe(df_combined)\n"
   ]
  }
 ],
 "metadata": {
  "kernelspec": {
   "display_name": "Python 3",
   "language": "python",
   "name": "python3"
  },
  "language_info": {
   "codemirror_mode": {
    "name": "ipython",
    "version": 3
   },
   "file_extension": ".py",
   "mimetype": "text/x-python",
   "name": "python",
   "nbconvert_exporter": "python",
   "pygments_lexer": "ipython3",
   "version": "3.11.9"
  }
 },
 "nbformat": 4,
 "nbformat_minor": 2
}
